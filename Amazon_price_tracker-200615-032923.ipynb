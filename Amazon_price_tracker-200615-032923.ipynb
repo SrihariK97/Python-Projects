{
  "nbformat": 4,
  "nbformat_minor": 0,
  "metadata": {
    "colab": {
      "name": "Amazon price tracker.ipynb",
      "provenance": [],
      "collapsed_sections": []
    },
    "kernelspec": {
      "name": "python3",
      "display_name": "Python 3"
    }
  },
  "cells": [
    {
      "cell_type": "code",
      "metadata": {
        "id": "f5QtGfimwhf-",
        "colab_type": "code",
        "colab": {}
      },
      "source": [
        "pip install requests bs4"
      ],
      "execution_count": 0,
      "outputs": []
    },
    {
      "cell_type": "code",
      "metadata": {
        "id": "XVRN5wdJyNB6",
        "colab_type": "code",
        "colab": {}
      },
      "source": [
        "import requests\n",
        "from bs4 import BeautifulSoup\n",
        "URL = ''\n",
        "myuseragent= ''\n",
        "\n",
        "\n",
        "def check_price():\n",
        "  headers = {\"User-Agent\": myuseragent}\n",
        "  page = requests.get(URL, headers=headers)\n",
        "  soup = BeautifulSoup(page.content,'html.parser')\n",
        "  price = soup.find(id='priceblock_ourprice').get_text().strip()\n",
        "  price = float(price[2:])\n",
        "  return price\n",
        "\n",
        "\n"
      ],
      "execution_count": 0,
      "outputs": []
    },
    {
      "cell_type": "code",
      "metadata": {
        "id": "LXK0LcktzrJi",
        "colab_type": "code",
        "outputId": "9ad82459-404b-4df4-dccf-9613160b37b3",
        "colab": {
          "base_uri": "https://localhost:8080/",
          "height": 33
        }
      },
      "source": [
        "check_price()"
      ],
      "execution_count": 0,
      "outputs": [
        {
          "output_type": "execute_result",
          "data": {
            "text/plain": [
              "649.0"
            ]
          },
          "metadata": {
            "tags": []
          },
          "execution_count": 15
        }
      ]
    },
    {
      "cell_type": "code",
      "metadata": {
        "id": "_AnrA-Y12eno",
        "colab_type": "code",
        "colab": {}
      },
      "source": [
        "#DATETIME   PANDAS"
      ],
      "execution_count": 0,
      "outputs": []
    }
  ]
}